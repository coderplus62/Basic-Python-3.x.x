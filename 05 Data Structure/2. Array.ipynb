{
 "cells": [
  {
   "cell_type": "markdown",
   "id": "678d7a1b-8533-48d3-89e5-e562cc3b023c",
   "metadata": {},
   "source": [
    "# Penjelasan tentang Array dalam Python\n",
    " Array dalam Python diimplementasikan menggunakan list atau modul array bawaa.n\n",
    "\n",
    " Mari kita gunakan list untuk mendemonstrasikan cara mengakses dan memanipulasi arayr"
   ]
  },
  {
   "cell_type": "markdown",
   "id": "e882b667-52f9-434a-9de1-6f02e80a47d2",
   "metadata": {},
   "source": [
    "# 1. Mengakses Elemen array\n",
    "Membuat array (list)"
   ]
  },
  {
   "cell_type": "code",
   "execution_count": 1,
   "id": "49320a10-b78f-4630-b15a-56f35f7209cd",
   "metadata": {},
   "outputs": [],
   "source": [
    "\n",
    "my_array = [10, 20, 30, 4, 50] "
   ]
  },
  {
   "cell_type": "markdown",
   "id": "afdba155-c0a8-4f71-b8bf-0b4e793a34fc",
   "metadata": {},
   "source": [
    "# Mengakses elemen-elemen array menggunakan indexing"
   ]
  },
  {
   "cell_type": "code",
   "execution_count": 2,
   "id": "7eba66aa-5229-4d6a-8579-65b703b2d2f1",
   "metadata": {},
   "outputs": [],
   "source": [
    "elemen_pertama = my_array[0]     # Mengakses elemen pertama (10)\n",
    "elemen_pertama"
   ]
  },
  {
   "cell_type": "code",
   "execution_count": null,
   "id": "175111cb-3a02-4307-a980-433c1b7e058a",
   "metadata": {},
   "outputs": [],
   "source": [
    "elemen_ketiga = my_array[2]      # Mengakses elemen ketiga (30)\n",
    "elemen_ketiga"
   ]
  },
  {
   "cell_type": "code",
   "execution_count": null,
   "id": "2c72b0b4-0664-48c7-bd3e-3f893099eaac",
   "metadata": {},
   "outputs": [],
   "source": [
    "elemen_terakhir = my_array[-1]   # Mengakses elemen terakhir (50)\n",
    "elemen_terakhir"
   ]
  },
  {
   "cell_type": "markdown",
   "id": "191f27f9-f29c-479f-a827-268aed049f84",
   "metadata": {},
   "source": [
    "# 2. Memanipulasi Elemen Array"
   ]
  },
  {
   "cell_type": "code",
   "execution_count": 7,
   "id": "e05bb771-f799-4f00-be59-685b717b52b3",
   "metadata": {
    "jp-MarkdownHeadingCollapsed": true
   },
   "outputs": [],
   "source": [
    "# Memodifikasi elemen-elemen array menggunakan indexing\r\n",
    "my_array[1] = 25   # Ubah elemen kedua menjad25my_array "
   ]
  },
  {
   "cell_type": "markdown",
   "id": "f50b5065-212a-408a-89cf-589c1621edf7",
   "metadata": {},
   "source": [
    "\n",
    "# Menambahkan elemen ke dalam array menggunakan append()\r\n",
    "my_array.append(60)  # Tambahkan 60 ke akhir aay\n",
    "my_arrayrr"
   ]
  },
  {
   "cell_type": "code",
   "execution_count": null,
   "id": "cde22da5-dda4-49cc-93f2-42047bdd4ccb",
   "metadata": {},
   "outputs": [],
   "source": [
    "\n",
    "# Menghapus elemen dari array menggunakan remove()\r\n",
    "my_array.remove(30)  # Hapus elemen 30 dari ar\n",
    "my_arryr"
   ]
  },
  {
   "cell_type": "code",
   "execution_count": null,
   "id": "846339c0-fcf2-437b-b2fd-84e878f4f062",
   "metadata": {},
   "outputs": [],
   "source": [
    "\r\n",
    "# Slicing untuk mendapatkan subset dari array\r\n",
    "subset_array = my_array[1:4]  # Dapatkan elemen dari indeks 1 hingga 3 (tidak termasusubset_arrayset_"
   ]
  },
  {
   "cell_type": "code",
   "execution_count": null,
   "id": "ced0117f-200d-484c-bdd1-1c621e7d5dce",
   "metadata": {},
   "outputs": [],
   "source": [
    "\r\n",
    "# Membalikkan array menggunakan slicing\r\n",
    "reversed_array = my_array[::-1]  # Balikkan seluruh array\r\n",
    "print(\"Array yang Dibalikkan:\", reversed_array)(\"Array yang Dibalikkan:\", reversed_array)"
   ]
  }
 ],
 "metadata": {
  "kernelspec": {
   "display_name": "Python 3 (ipykernel)",
   "language": "python",
   "name": "python3"
  },
  "language_info": {
   "codemirror_mode": {
    "name": "ipython",
    "version": 3
   },
   "file_extension": ".py",
   "mimetype": "text/x-python",
   "name": "python",
   "nbconvert_exporter": "python",
   "pygments_lexer": "ipython3",
   "version": "3.9.17"
  }
 },
 "nbformat": 4,
 "nbformat_minor": 5
}
