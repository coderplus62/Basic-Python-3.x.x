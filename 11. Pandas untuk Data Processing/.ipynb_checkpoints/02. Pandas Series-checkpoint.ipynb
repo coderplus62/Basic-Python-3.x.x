{
 "cells": [
  {
   "cell_type": "markdown",
   "id": "e1b4ea3d-99ab-40a3-a785-bf6b42216954",
   "metadata": {},
   "source": [
    "# **Pandas Series: Operasi Sederhana pada Pandas Series**\n",
    "\n",
    "Pandas Series adalah struktur data satu dimensi yang merupakan bagian penting dari pustaka Pandas. Ini mirip dengan array atau list dalam Python, tetapi memiliki keunggulan dalam integrasi dengan banyak fitur Pandas. Mari kita lihat beberapa operasi sederhana yang dapat kita lakukan dengan Pandas Series."
   ]
  },
  {
   "cell_type": "markdown",
   "id": "1d0df83f-61a1-415c-a8c5-653617d3c26c",
   "metadata": {},
   "source": [
    "## **Langkah 3.1: Operasi Sederhana dengan Pandas Series**\n",
    "\n",
    "Pertama, mari kita impor pustaka Pandas dan membuat dua buah Pandas Series sederhana:\n"
   ]
  },
  {
   "cell_type": "code",
   "execution_count": null,
   "id": "a9064219-1214-4593-b6c5-65edd166feb0",
   "metadata": {},
   "outputs": [],
   "source": [
    "import pandas as pd\n",
    "\n",
    "# Membuat Pandas Series dari list\n",
    "data = [10, 20, 30, 40, 50]\n",
    "series = pd.Series(data)\n",
    "\n",
    "# Membuat Pandas Series dengan label kustom\n",
    "data_dict = {'a': 10, 'b': 20, 'c': 30, 'd': 40, 'e': 50}\n",
    "custom_series = pd.Series(data_dict)\n",
    "\n",
    "Sekarang kita punya dua Pandas Series: `series` dan `custom_series`. Kedua Series ini memiliki indeks yang dihasilkan secara otomatis (indeks default dan indeks berdasarkan label kustom).\n",
    "\n",
    "**Aritmatika Sederhana:**\n",
    "\n",
    "Kita dapat melakukan operasi aritmatika sederhana pada Pandas Series, seperti penambahan, pengurangan, perkalian, dan pembagian. Operasi ini diterapkan pada setiap elemen dalam Series:\n",
    "\n",
    "```python\n",
    "# Operasi penambahan\n",
    "result_add = series + 5\n",
    "\n",
    "# Operasi pengurangan\n",
    "result_subtract = custom_series - 10\n",
    "\n",
    "# Operasi perkalian\n",
    "result_multiply = series * 2\n",
    "\n",
    "# Operasi pembagian\n",
    "result_divide = custom_series / 3\n",
    "```\n",
    "\n",
    "**Operasi pada Seluruh Series:**\n",
    "\n",
    "Kita juga dapat menerapkan operasi pada seluruh Series dengan menggunakan fungsi built-in Pandas. Misalnya, untuk mencari nilai maksimum dalam sebuah Series:\n",
    "\n",
    "```python\n",
    "max_value = series.max()  # Nilai maksimum dalam series\n",
    "min_value = custom_series.min()  # Nilai minimum dalam custom_series\n",
    "sum_values = series.sum()  # Jumlah semua nilai dalam series\n",
    "```\n",
    "\n",
    "**Hasil Operasi:**\n",
    "\n",
    "Mari kita cetak hasil dari operasi-operasi tersebut:\n",
    "\n",
    "```python\n",
    "print(\"Hasil Penambahan:\", result_add)\n",
    "print(\"Hasil Pengurangan:\", result_subtract)\n",
    "print(\"Hasil Perkalian:\", result_multiply)\n",
    "print(\"Hasil Pembagian:\", result_divide)\n",
    "\n",
    "print(\"Nilai Maksimum dalam series:\", max_value)\n",
    "print(\"Nilai Minimum dalam custom_series:\", min_value)\n",
    "print(\"Jumlah semua nilai dalam series:\", sum_values)\n",
    "```\n",
    "\n",
    "Pandas Series memungkinkan kita untuk dengan mudah melakukan operasi sederhana pada data dengan sintaks yang mudah dimengerti. Dengan berbagai metode dan fungsi yang tersedia, kita dapat dengan cepat menganalisis dan memanipulasi data dalam Series."
   ]
  }
 ],
 "metadata": {
  "kernelspec": {
   "display_name": "Python 3 (ipykernel)",
   "language": "python",
   "name": "python3"
  },
  "language_info": {
   "codemirror_mode": {
    "name": "ipython",
    "version": 3
   },
   "file_extension": ".py",
   "mimetype": "text/x-python",
   "name": "python",
   "nbconvert_exporter": "python",
   "pygments_lexer": "ipython3",
   "version": "3.9.17"
  }
 },
 "nbformat": 4,
 "nbformat_minor": 5
}
